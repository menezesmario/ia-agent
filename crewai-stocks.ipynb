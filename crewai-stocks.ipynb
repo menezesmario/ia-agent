{
 "cells": [
  {
   "cell_type": "code",
   "execution_count": null,
   "metadata": {},
   "outputs": [],
   "source": [
    "#instalation libs\n",
    "\n",
    "!pip3 install yfinance\n",
    "!pip3 install crewai\n",
    "!pip3 install 'crewai[tools]'\n",
    "!pip3 install langchain\n",
    "!pip3 install langchain-openai"
   ]
  },
  {
   "cell_type": "code",
   "execution_count": 7,
   "metadata": {},
   "outputs": [],
   "source": [
    "import json\n",
    "import os\n",
    "from datetime import datetime\n",
    "\n",
    "import yfinance as yf\n",
    "\n",
    "from crewai import Agent, Task\n",
    "\n",
    "from langchain.tools import Tool\n",
    "from langchain_openai import ChatOpenAI\n"
   ]
  },
  {
   "cell_type": "code",
   "execution_count": 3,
   "metadata": {},
   "outputs": [],
   "source": [
    "#CREATE YAHOO FINANCE TOOL\n",
    "\n",
    "def fetch_stock_price(ticket):\n",
    "    stock = yf.download(ticket, start=\"2023-08-08\", end=\"2024-08-08\")\n",
    "    return stock\n",
    "\n",
    "yahoo_finance_tool = Tool(\n",
    "    name = \"Yahoo Finance Tool\",\n",
    "    description = \"Fetches stocks prices for {ticket} from the last year about a specfic company from Yahoo Finance API\",\n",
    "    func= lambda ticket: fetch_stock_price(ticket)\n",
    ")\n"
   ]
  },
  {
   "cell_type": "code",
   "execution_count": 4,
   "metadata": {},
   "outputs": [
    {
     "name": "stderr",
     "output_type": "stream",
     "text": [
      "[*********************100%%**********************]  1 of 1 completed\n"
     ]
    }
   ],
   "source": [
    "response = yahoo_finance_tool.run(\"AAPL\")"
   ]
  },
  {
   "cell_type": "code",
   "execution_count": null,
   "metadata": {},
   "outputs": [],
   "source": [
    "print(response)"
   ]
  },
  {
   "cell_type": "code",
   "execution_count": null,
   "metadata": {},
   "outputs": [],
   "source": []
  }
 ],
 "metadata": {
  "kernelspec": {
   "display_name": "Python 3",
   "language": "python",
   "name": "python3"
  },
  "language_info": {
   "codemirror_mode": {
    "name": "ipython",
    "version": 3
   },
   "file_extension": ".py",
   "mimetype": "text/x-python",
   "name": "python",
   "nbconvert_exporter": "python",
   "pygments_lexer": "ipython3",
   "version": "3.11.4"
  }
 },
 "nbformat": 4,
 "nbformat_minor": 2
}
